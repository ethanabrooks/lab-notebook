{
 "cells": [
  {
   "cell_type": "markdown",
   "metadata": {},
   "source": [
    "# Contents\n",
    "* [Starting Out](#Starting-Out)\n",
    "* [Creating Runs](#Creating-Runs)\n",
    "    - [`new`](#new)\n",
    "    - [Using Spec Files](#Using-Spec-Files)\n",
    "* [Querying Existing Runs](#Querying-Existing-Runs)\n",
    "    - [`ls`](#ls)\n",
    "    - [`lookup`](#lookup)\n",
    "* [File IO](#File-IO)\n",
    "* [Changing Runs](#Changing-Runs)\n",
    "    - [`mv`](#mv)\n",
    "    - [`change-description`](#change-description)\n",
    "    - [`kill`](#kill)\n",
    "* [Deleting Runs](#Deleting-Runs)\n",
    "* [Reproducing Runs](#Reproducing-Runs)\n",
    "* [Comparing Runs](#Comparing-Runs)\n",
    "* [`runs-git`](#runs-git)"
   ]
  },
  {
   "cell_type": "code",
   "execution_count": 1,
   "metadata": {},
   "outputs": [],
   "source": [
    "runs -y rm % && rm -f runs.db .runsrc  # start with a clean slate."
   ]
  },
  {
   "cell_type": "markdown",
   "metadata": {},
   "source": [
    "# Starting Out"
   ]
  },
  {
   "cell_type": "markdown",
   "metadata": {},
   "source": [
    "We begin by creating a new `.runsrc` file and creating our database `runs.db`. Running any `runs` command will do this. Note that without `--assume-yes`, this would prompt the user for confirmation. You can also use the short flag `-y`."
   ]
  },
  {
   "cell_type": "code",
   "execution_count": 2,
   "metadata": {},
   "outputs": [
    {
     "name": "stdout",
     "output_type": "stream",
     "text": [
      "Config not found. Using default config:\n",
      "{'args': '',\n",
      " 'db_path': '/Users/ethan/lab-notebook/demo/runs.db',\n",
      " 'dir_names': '',\n",
      " 'root': '/Users/ethan/lab-notebook/demo/.runs'}\n",
      "\n"
     ]
    }
   ],
   "source": [
    "runs --assume-yes ls"
   ]
  },
  {
   "cell_type": "code",
   "execution_count": 3,
   "metadata": {},
   "outputs": [
    {
     "name": "stdout",
     "output_type": "stream",
     "text": [
      "runs.db\n"
     ]
    }
   ],
   "source": [
    "ls runs.db  # database that maintains metadata about runs"
   ]
  },
  {
   "cell_type": "code",
   "execution_count": 4,
   "metadata": {},
   "outputs": [
    {
     "name": "stdout",
     "output_type": "stream",
     "text": [
      "[main]\n",
      "root : /Users/ethan/lab-notebook/demo/.runs\n",
      "db_path : /Users/ethan/lab-notebook/demo/runs.db\n",
      "dir_names : \n",
      "args : \n",
      "\n"
     ]
    }
   ],
   "source": [
    "cat .runsrc  # config file"
   ]
  },
  {
   "cell_type": "markdown",
   "metadata": {},
   "source": [
    "The `.runsrc` establishes various defaults for the `runs` command although these can be overriden with command line arguments. We will explore some of the capabilities of this file [later](#File-IO) in the tutorial."
   ]
  },
  {
   "cell_type": "markdown",
   "metadata": {},
   "source": [
    "# Creating Runs"
   ]
  },
  {
   "cell_type": "markdown",
   "metadata": {},
   "source": [
    "## `new`"
   ]
  },
  {
   "cell_type": "code",
   "execution_count": 5,
   "metadata": {},
   "outputs": [
    {
     "name": "stdout",
     "output_type": "stream",
     "text": [
      "\u001b[0;32mPath:\u001b[0;0m\n",
      "demo\n",
      "\u001b[0;32mDescription:\u001b[0;0m\n",
      "Demonstrate lab-notebook capabilities.\n",
      "\u001b[0;32mCommand sent to session:\u001b[0;0m\n",
      "python\n",
      "\u001b[0;32mList active:\u001b[0;0m\n",
      "tmux list-session\n",
      "\u001b[0;32mAttach:\u001b[0;0m\n",
      "tmux attach -t 'demo'\n",
      "\n"
     ]
    }
   ],
   "source": [
    "runs -y new --path=demo --command=python --description=\"Demonstrate lab-notebook capabilities.\""
   ]
  },
  {
   "cell_type": "markdown",
   "metadata": {},
   "source": [
    "This performs the following operations:\n",
    "* Checks for runs with the same path name and deletes them (after asking permission from the user if no `-y` flag).\n",
    "* Creates a TMUX session with the command launched in it.\n",
    "* Stores metadata about the run in `runs.db`.\n",
    "* Creates directories in accordance with `.runsrc` (as we demonstrate in the [File IO](#File-IO) section of this tutorial)."
   ]
  },
  {
   "cell_type": "code",
   "execution_count": 6,
   "metadata": {
    "scrolled": true
   },
   "outputs": [
    {
     "name": "stdout",
     "output_type": "stream",
     "text": [
      "demo: 1 windows (created Wed Dec 26 13:17:00 2018) [80x24]\n"
     ]
    }
   ],
   "source": [
    "tmux ls | grep demo"
   ]
  },
  {
   "cell_type": "markdown",
   "metadata": {},
   "source": [
    "You can create multiple runs with a single run command:"
   ]
  },
  {
   "cell_type": "code",
   "execution_count": 7,
   "metadata": {
    "scrolled": true
   },
   "outputs": [
    {
     "name": "stdout",
     "output_type": "stream",
     "text": [
      "\u001b[0;32mPath:\u001b[0;0m\n",
      "demo2\n",
      "\u001b[0;32mDescription:\u001b[0;0m\n",
      "Demonstrate creating multiple runs at once\n",
      "\u001b[0;32mCommand sent to session:\u001b[0;0m\n",
      "python dummy.py --my-arg=1\n",
      "\u001b[0;32mList active:\u001b[0;0m\n",
      "tmux list-session\n",
      "\u001b[0;32mAttach:\u001b[0;0m\n",
      "tmux attach -t 'demo2'\n",
      "\n",
      "\u001b[0;32mPath:\u001b[0;0m\n",
      "demo\n",
      "\u001b[0;32mDescription:\u001b[0;0m\n",
      "Demonstrate creating multiple runs at once\n",
      "\u001b[0;32mCommand sent to session:\u001b[0;0m\n",
      "python dummy.py --my-arg=2 --flag --my-arg=1\n",
      "\u001b[0;32mList active:\u001b[0;0m\n",
      "tmux list-session\n",
      "\u001b[0;32mAttach:\u001b[0;0m\n",
      "tmux attach -t 'demo'\n",
      "\n"
     ]
    }
   ],
   "source": [
    "runs -y new --path=demo --command=\"python dummy.py --flag --my-arg=1 --my-arg=2\" \\\n",
    "            --path=demo2 --command=\"python dummy.py --my-arg=1\" \\\n",
    "            --description=\"Demonstrate creating multiple runs at once\""
   ]
  },
  {
   "cell_type": "markdown",
   "metadata": {},
   "source": [
    "Note that we just overwrote the previous run called `demo`, meaning that we killed the associated tmux session and performed various cleanup actions. Without the `-y` flag, it would prompt the user before any change."
   ]
  },
  {
   "cell_type": "code",
   "execution_count": 8,
   "metadata": {},
   "outputs": [
    {
     "name": "stdout",
     "output_type": "stream",
     "text": [
      "demo: 1 windows (created Wed Dec 26 13:17:01 2018) [80x24]\n",
      "demo2: 1 windows (created Wed Dec 26 13:17:01 2018) [80x24]\n"
     ]
    }
   ],
   "source": [
    "tmux ls | grep demo"
   ]
  },
  {
   "cell_type": "markdown",
   "metadata": {},
   "source": [
    "## Using Spec Files"
   ]
  },
  {
   "cell_type": "markdown",
   "metadata": {},
   "source": [
    "You can also use 'spec' files to create multiple runs using cross-products of arguments. You can create a spec file by hand, or you can generate one from existing runs:"
   ]
  },
  {
   "cell_type": "code",
   "execution_count": 9,
   "metadata": {},
   "outputs": [
    {
     "name": "stdout",
     "output_type": "stream",
     "text": [
      "\u001b[0;32mdemo2: \u001b[0;0mpython dummy.py --my-arg=1\n",
      "\u001b[0;32mdemo: \u001b[0;0mpython dummy.py --my-arg=2 --flag --my-arg=1\n"
     ]
    }
   ],
   "source": [
    "runs lookup command demo demo2"
   ]
  },
  {
   "cell_type": "code",
   "execution_count": 10,
   "metadata": {
    "scrolled": true
   },
   "outputs": [],
   "source": [
    "runs to-spec demo demo2 > run.json"
   ]
  },
  {
   "cell_type": "markdown",
   "metadata": {},
   "source": [
    "`run.json` now contains a specification of the commands used in `demo` and `demo2`."
   ]
  },
  {
   "cell_type": "code",
   "execution_count": 11,
   "metadata": {
    "scrolled": true
   },
   "outputs": [
    {
     "name": "stdout",
     "output_type": "stream",
     "text": [
      "{\n",
      "    \"args\": {\n",
      "        \"my-arg\": [\n",
      "            [\n",
      "                1,\n",
      "                2\n",
      "            ],\n",
      "            1\n",
      "        ]\n",
      "    },\n",
      "    \"command\": \"python dummy.py\",\n",
      "    \"flags\": [\n",
      "        [\n",
      "            null\n",
      "        ],\n",
      "        [\n",
      "            \"flag\"\n",
      "        ]\n",
      "    ]\n",
      "}\n"
     ]
    }
   ],
   "source": [
    "cat run.json"
   ]
  },
  {
   "cell_type": "markdown",
   "metadata": {},
   "source": [
    "Note that `my-arg` contains a list of lists. This is how specs represent repeated args."
   ]
  },
  {
   "cell_type": "markdown",
   "metadata": {},
   "source": [
    "We can use this specification to generate runs that use a cross-product of the specified arguments:"
   ]
  },
  {
   "cell_type": "code",
   "execution_count": 12,
   "metadata": {
    "scrolled": false
   },
   "outputs": [
    {
     "name": "stdout",
     "output_type": "stream",
     "text": [
      "\u001b[0;32mPath:\u001b[0;0m\n",
      "from-spec-demo/0\n",
      "\u001b[0;32mDescription:\u001b[0;0m\n",
      "Demonstrate the use of specs to generate runs.\n",
      "\u001b[0;32mCommand sent to session:\u001b[0;0m\n",
      "python dummy.py --my-arg=\"2\" --my-arg=\"1\"\n",
      "\u001b[0;32mList active:\u001b[0;0m\n",
      "tmux list-session\n",
      "\u001b[0;32mAttach:\u001b[0;0m\n",
      "tmux attach -t 'from-spec-demo/0'\n",
      "\n",
      "\u001b[0;32mPath:\u001b[0;0m\n",
      "from-spec-demo/1\n",
      "\u001b[0;32mDescription:\u001b[0;0m\n",
      "Demonstrate the use of specs to generate runs.\n",
      "\u001b[0;32mCommand sent to session:\u001b[0;0m\n",
      "python dummy.py --my-arg=\"2\" --my-arg=\"1\" --flag\n",
      "\u001b[0;32mList active:\u001b[0;0m\n",
      "tmux list-session\n",
      "\u001b[0;32mAttach:\u001b[0;0m\n",
      "tmux attach -t 'from-spec-demo/1'\n",
      "\n",
      "\u001b[0;32mPath:\u001b[0;0m\n",
      "from-spec-demo/2\n",
      "\u001b[0;32mDescription:\u001b[0;0m\n",
      "Demonstrate the use of specs to generate runs.\n",
      "\u001b[0;32mCommand sent to session:\u001b[0;0m\n",
      "python dummy.py --my-arg=\"1\"\n",
      "\u001b[0;32mList active:\u001b[0;0m\n",
      "tmux list-session\n",
      "\u001b[0;32mAttach:\u001b[0;0m\n",
      "tmux attach -t 'from-spec-demo/2'\n",
      "\n",
      "\u001b[0;32mPath:\u001b[0;0m\n",
      "from-spec-demo/3\n",
      "\u001b[0;32mDescription:\u001b[0;0m\n",
      "Demonstrate the use of specs to generate runs.\n",
      "\u001b[0;32mCommand sent to session:\u001b[0;0m\n",
      "python dummy.py --my-arg=\"1\" --flag\n",
      "\u001b[0;32mList active:\u001b[0;0m\n",
      "tmux list-session\n",
      "\u001b[0;32mAttach:\u001b[0;0m\n",
      "tmux attach -t 'from-spec-demo/3'\n",
      "\n"
     ]
    }
   ],
   "source": [
    "runs -y from-spec run.json --path=from-spec-demo --description=\"Demonstrate the use of specs to generate runs.\""
   ]
  },
  {
   "cell_type": "code",
   "execution_count": 13,
   "metadata": {
    "scrolled": true
   },
   "outputs": [
    {
     "name": "stdout",
     "output_type": "stream",
     "text": [
      "demo: 1 windows (created Wed Dec 26 13:17:01 2018) [80x24]\n",
      "demo2: 1 windows (created Wed Dec 26 13:17:01 2018) [80x24]\n",
      "from-spec-demo/0: 1 windows (created Wed Dec 26 13:17:02 2018) [80x24]\n",
      "from-spec-demo/1: 1 windows (created Wed Dec 26 13:17:02 2018) [80x24]\n",
      "from-spec-demo/2: 1 windows (created Wed Dec 26 13:17:02 2018) [80x24]\n",
      "from-spec-demo/3: 1 windows (created Wed Dec 26 13:17:02 2018) [80x24]\n"
     ]
    }
   ],
   "source": [
    "tmux ls | grep demo"
   ]
  },
  {
   "cell_type": "markdown",
   "metadata": {},
   "source": [
    "Here, you can see that the generated runs use all combinations of the specified arguments:"
   ]
  },
  {
   "cell_type": "code",
   "execution_count": 14,
   "metadata": {},
   "outputs": [
    {
     "name": "stdout",
     "output_type": "stream",
     "text": [
      "\u001b[0;32mfrom-spec-demo/0: \u001b[0;0mpython dummy.py --my-arg=\"2\" --my-arg=\"1\"\n",
      "\u001b[0;32mfrom-spec-demo/1: \u001b[0;0mpython dummy.py --my-arg=\"2\" --my-arg=\"1\" --flag\n",
      "\u001b[0;32mfrom-spec-demo/2: \u001b[0;0mpython dummy.py --my-arg=\"1\"\n",
      "\u001b[0;32mfrom-spec-demo/3: \u001b[0;0mpython dummy.py --my-arg=\"1\" --flag\n"
     ]
    }
   ],
   "source": [
    "runs lookup command from-spec-demo/%  # '%' is a wildcard pattern"
   ]
  },
  {
   "cell_type": "markdown",
   "metadata": {},
   "source": [
    "# Querying Existing Runs"
   ]
  },
  {
   "cell_type": "markdown",
   "metadata": {},
   "source": [
    "## `ls`"
   ]
  },
  {
   "cell_type": "markdown",
   "metadata": {},
   "source": [
    "The most basic way to query runs is simply to list them:"
   ]
  },
  {
   "cell_type": "code",
   "execution_count": 15,
   "metadata": {},
   "outputs": [
    {
     "name": "stdout",
     "output_type": "stream",
     "text": [
      "demo2\n",
      "demo\n",
      "from-spec-demo/0\n",
      "from-spec-demo/1\n",
      "from-spec-demo/2\n",
      "from-spec-demo/3\n"
     ]
    }
   ],
   "source": [
    "runs ls %  # queries use SQL wildcard patterns ('%' matches everything)"
   ]
  },
  {
   "cell_type": "code",
   "execution_count": 16,
   "metadata": {
    "scrolled": false
   },
   "outputs": [
    {
     "name": "stdout",
     "output_type": "stream",
     "text": [
      "demo2\n"
     ]
    }
   ],
   "source": [
    "runs ls demo_"
   ]
  },
  {
   "cell_type": "markdown",
   "metadata": {},
   "source": [
    "You can use `--active` to select only runs that have current active TMUX Sessions:"
   ]
  },
  {
   "cell_type": "code",
   "execution_count": 17,
   "metadata": {},
   "outputs": [
    {
     "name": "stdout",
     "output_type": "stream",
     "text": [
      "demo\n",
      "demo2\n",
      "from-spec-demo/0\n",
      "from-spec-demo/1\n",
      "from-spec-demo/2\n",
      "from-spec-demo/3\n"
     ]
    }
   ],
   "source": [
    "runs ls --active"
   ]
  },
  {
   "cell_type": "markdown",
   "metadata": {},
   "source": [
    "This matches the output of `tmux ls`:"
   ]
  },
  {
   "cell_type": "code",
   "execution_count": 18,
   "metadata": {},
   "outputs": [
    {
     "name": "stdout",
     "output_type": "stream",
     "text": [
      "demo: 1 windows (created Wed Dec 26 13:17:01 2018) [80x24]\n",
      "demo2: 1 windows (created Wed Dec 26 13:17:01 2018) [80x24]\n",
      "from-spec-demo/0: 1 windows (created Wed Dec 26 13:17:02 2018) [80x24]\n",
      "from-spec-demo/1: 1 windows (created Wed Dec 26 13:17:02 2018) [80x24]\n",
      "from-spec-demo/2: 1 windows (created Wed Dec 26 13:17:02 2018) [80x24]\n",
      "from-spec-demo/3: 1 windows (created Wed Dec 26 13:17:02 2018) [80x24]\n"
     ]
    }
   ],
   "source": [
    "tmux ls | grep demo"
   ]
  },
  {
   "cell_type": "code",
   "execution_count": 19,
   "metadata": {},
   "outputs": [],
   "source": [
    "runs -y kill demo"
   ]
  },
  {
   "cell_type": "markdown",
   "metadata": {},
   "source": [
    "After we kill the TMUX session for the `demo` run, it no longer appears in response to `--active` queries:"
   ]
  },
  {
   "cell_type": "code",
   "execution_count": 20,
   "metadata": {},
   "outputs": [
    {
     "name": "stdout",
     "output_type": "stream",
     "text": [
      "demo2\n",
      "from-spec-demo/0\n",
      "from-spec-demo/1\n",
      "from-spec-demo/2\n",
      "from-spec-demo/3\n"
     ]
    }
   ],
   "source": [
    "runs ls --active"
   ]
  },
  {
   "cell_type": "markdown",
   "metadata": {},
   "source": [
    "But it still shows up in our database:"
   ]
  },
  {
   "cell_type": "code",
   "execution_count": 21,
   "metadata": {},
   "outputs": [
    {
     "name": "stdout",
     "output_type": "stream",
     "text": [
      "demo2\n",
      "demo\n",
      "from-spec-demo/0\n",
      "from-spec-demo/1\n",
      "from-spec-demo/2\n",
      "from-spec-demo/3\n"
     ]
    }
   ],
   "source": [
    "runs ls %"
   ]
  },
  {
   "cell_type": "markdown",
   "metadata": {},
   "source": [
    "You can also filter by time."
   ]
  },
  {
   "cell_type": "code",
   "execution_count": 22,
   "metadata": {},
   "outputs": [
    {
     "name": "stdout",
     "output_type": "stream",
     "text": [
      "demo2\n",
      "demo\n",
      "from-spec-demo/0\n",
      "from-spec-demo/1\n",
      "from-spec-demo/2\n",
      "from-spec-demo/3\n"
     ]
    }
   ],
   "source": [
    "runs ls --since $(date \"+%Y-%m-%d\")"
   ]
  },
  {
   "cell_type": "code",
   "execution_count": 23,
   "metadata": {},
   "outputs": [
    {
     "name": "stdout",
     "output_type": "stream",
     "text": [
      "demo2\n",
      "demo\n",
      "from-spec-demo/0\n",
      "from-spec-demo/1\n",
      "from-spec-demo/2\n",
      "from-spec-demo/3\n"
     ]
    }
   ],
   "source": [
    "runs ls --from-last 1day"
   ]
  },
  {
   "cell_type": "markdown",
   "metadata": {},
   "source": [
    "For info on accepted formats, run `runs ls -h` (ommitted for brevity)."
   ]
  },
  {
   "cell_type": "markdown",
   "metadata": {},
   "source": [
    "All these selection mechanisms are available to other `runs` subcommands (`rm`, `mv`, `ls`, `lookup`, `change-description`, `reproduce`, `correlate`, `kill`)."
   ]
  },
  {
   "cell_type": "markdown",
   "metadata": {},
   "source": [
    "## `lookup`"
   ]
  },
  {
   "cell_type": "markdown",
   "metadata": {},
   "source": [
    "You can query metadata about runs:"
   ]
  },
  {
   "cell_type": "code",
   "execution_count": 24,
   "metadata": {},
   "outputs": [
    {
     "name": "stdout",
     "output_type": "stream",
     "text": [
      "\u001b[0;32mfrom-spec-demo/0: \u001b[0;0mec84f3e7eece3fdab32c7c84c9d3cbcda953cc8e\n",
      "\u001b[0;32mfrom-spec-demo/1: \u001b[0;0mec84f3e7eece3fdab32c7c84c9d3cbcda953cc8e\n",
      "\u001b[0;32mfrom-spec-demo/2: \u001b[0;0mec84f3e7eece3fdab32c7c84c9d3cbcda953cc8e\n",
      "\u001b[0;32mfrom-spec-demo/3: \u001b[0;0mec84f3e7eece3fdab32c7c84c9d3cbcda953cc8e\n"
     ]
    }
   ],
   "source": [
    "runs lookup commit from-spec-demo/%"
   ]
  },
  {
   "cell_type": "code",
   "execution_count": 25,
   "metadata": {},
   "outputs": [
    {
     "name": "stdout",
     "output_type": "stream",
     "text": [
      "\u001b[0;32mfrom-spec-demo/0: \u001b[0;0m2018-12-26T13:17:02.705685\n",
      "\u001b[0;32mfrom-spec-demo/1: \u001b[0;0m2018-12-26T13:17:02.712074\n",
      "\u001b[0;32mfrom-spec-demo/2: \u001b[0;0m2018-12-26T13:17:02.718567\n",
      "\u001b[0;32mfrom-spec-demo/3: \u001b[0;0m2018-12-26T13:17:02.724969\n"
     ]
    }
   ],
   "source": [
    "runs lookup datetime from-spec-demo/%"
   ]
  },
  {
   "cell_type": "markdown",
   "metadata": {},
   "source": [
    "For info about queryable fields, run `runs lookup -h` (omitted for brevity)."
   ]
  },
  {
   "cell_type": "markdown",
   "metadata": {},
   "source": [
    "# File IO"
   ]
  },
  {
   "cell_type": "markdown",
   "metadata": {},
   "source": [
    "In this section we will focus on two fields in the `.runsrc`:\n",
    "* `dir_names` specifies directories that will be placed inside `root` and will be synchronized with run paths (created, moved, and deleted with them).\n",
    "* `args` specifies flags that should be passed to every run. The `<path>` keyword gets replaced with the path of the run."
   ]
  },
  {
   "cell_type": "code",
   "execution_count": 26,
   "metadata": {
    "scrolled": false
   },
   "outputs": [],
   "source": [
    "echo '[main]\n",
    "root : /Users/ethan/lab-notebook/demo/.runs\n",
    "db_path : /Users/ethan/lab-notebook/demo/runs.db\n",
    "dir_names : write-dir\n",
    "args : --write-path=${main:root}/write-dir/<path>/hello.txt' > .runsrc"
   ]
  },
  {
   "cell_type": "code",
   "execution_count": 27,
   "metadata": {
    "scrolled": true
   },
   "outputs": [
    {
     "name": "stdout",
     "output_type": "stream",
     "text": [
      "#! /usr/bin/env python\n",
      "\n",
      "import argparse\n",
      "from pathlib import Path\n",
      "\n",
      "parser = argparse.ArgumentParser()\n",
      "parser.add_argument('--write-path', type=Path, required=True)\n",
      "args = parser.parse_args()\n",
      "\n",
      "with args.write_path.open('w') as f:\n",
      "    f.write('Hello')\n"
     ]
    }
   ],
   "source": [
    "cat file_io_demo.py"
   ]
  },
  {
   "cell_type": "markdown",
   "metadata": {},
   "source": [
    "When we generate multiple runs, the appropriate flags get included in the command:"
   ]
  },
  {
   "cell_type": "code",
   "execution_count": 28,
   "metadata": {
    "scrolled": false
   },
   "outputs": [
    {
     "name": "stdout",
     "output_type": "stream",
     "text": [
      "\u001b[0;32mPath:\u001b[0;0m\n",
      "demo1\n",
      "\u001b[0;32mDescription:\u001b[0;0m\n",
      "Demonstrate .runsrc capabilities\n",
      "\u001b[0;32mCommand sent to session:\u001b[0;0m\n",
      "python3 file_io_demo.py --write-path=/Users/ethan/lab-notebook/demo/.runs/write-dir/demo1/hello.txt\n",
      "\u001b[0;32mList active:\u001b[0;0m\n",
      "tmux list-session\n",
      "\u001b[0;32mAttach:\u001b[0;0m\n",
      "tmux attach -t 'demo1'\n",
      "\n",
      "\u001b[0;32mPath:\u001b[0;0m\n",
      "demo2\n",
      "\u001b[0;32mDescription:\u001b[0;0m\n",
      "Demonstrate .runsrc capabilities\n",
      "\u001b[0;32mCommand sent to session:\u001b[0;0m\n",
      "python3 file_io_demo.py --write-path=/Users/ethan/lab-notebook/demo/.runs/write-dir/demo2/hello.txt\n",
      "\u001b[0;32mList active:\u001b[0;0m\n",
      "tmux list-session\n",
      "\u001b[0;32mAttach:\u001b[0;0m\n",
      "tmux attach -t 'demo2'\n",
      "\n"
     ]
    }
   ],
   "source": [
    "runs -y new --path=demo1 --command='python3 file_io_demo.py' \\\n",
    "            --path=demo2 --command='python3 file_io_demo.py' \\\n",
    "            --description='Demonstrate .runsrc capabilities'"
   ]
  },
  {
   "cell_type": "markdown",
   "metadata": {},
   "source": [
    "Note that the `--write-path` arg has been passed to each run with the value specified in `.runsrc`. Also note that the directory `.runs/write-dir` was created by the `runs` command (because of the `dir_names` section in `.runsrc`), not by `demo_script.py`:"
   ]
  },
  {
   "cell_type": "code",
   "execution_count": 29,
   "metadata": {
    "scrolled": false
   },
   "outputs": [
    {
     "name": "stdout",
     "output_type": "stream",
     "text": [
      ".runs/write-dir/\n",
      "├── demo1\n",
      "└── demo2\n",
      "\n",
      "2 directories, 0 files\n"
     ]
    }
   ],
   "source": [
    "sleep 1 && tree .runs/write-dir/"
   ]
  },
  {
   "cell_type": "markdown",
   "metadata": {},
   "source": [
    "In subsequent sections we will see that the program keeps the `write-dir` directory in sync with any changes to a run."
   ]
  },
  {
   "cell_type": "markdown",
   "metadata": {},
   "source": [
    "# Changing Runs"
   ]
  },
  {
   "cell_type": "markdown",
   "metadata": {},
   "source": [
    "## `mv`"
   ]
  },
  {
   "cell_type": "markdown",
   "metadata": {},
   "source": [
    "Like the `new` command, the `mv` command not only renames commands it also\n",
    "* Overwrites commands with the same name as the new name for the run.\n",
    "* Renames the TMUX session.\n",
    "* Updates the path name in `runs.db`.\n",
    "* Moves directories listed in `.runsrc` (as described in [File IO](#File-IO) section)."
   ]
  },
  {
   "cell_type": "markdown",
   "metadata": {},
   "source": [
    "Before we make any changes, let's remind ourselves of the current state of things:"
   ]
  },
  {
   "cell_type": "code",
   "execution_count": 30,
   "metadata": {},
   "outputs": [
    {
     "name": "stdout",
     "output_type": "stream",
     "text": [
      "demo\n",
      "from-spec-demo/0\n",
      "from-spec-demo/1\n",
      "from-spec-demo/2\n",
      "from-spec-demo/3\n",
      "demo1\n",
      "demo2\n"
     ]
    }
   ],
   "source": [
    "runs ls %"
   ]
  },
  {
   "cell_type": "code",
   "execution_count": 31,
   "metadata": {},
   "outputs": [
    {
     "name": "stdout",
     "output_type": "stream",
     "text": [
      "demo1: 1 windows (created Wed Dec 26 13:17:08 2018) [80x24]\n",
      "demo2: 1 windows (created Wed Dec 26 13:17:08 2018) [80x24]\n",
      "from-spec-demo/0: 1 windows (created Wed Dec 26 13:17:02 2018) [80x24]\n",
      "from-spec-demo/1: 1 windows (created Wed Dec 26 13:17:02 2018) [80x24]\n",
      "from-spec-demo/2: 1 windows (created Wed Dec 26 13:17:02 2018) [80x24]\n",
      "from-spec-demo/3: 1 windows (created Wed Dec 26 13:17:02 2018) [80x24]\n"
     ]
    }
   ],
   "source": [
    "tmux ls | grep demo  # remember we killed demo, so its TMUX session no longer shows up here."
   ]
  },
  {
   "cell_type": "code",
   "execution_count": 32,
   "metadata": {},
   "outputs": [
    {
     "name": "stdout",
     "output_type": "stream",
     "text": [
      ".runs\n",
      "└── write-dir\n",
      "    ├── demo1\n",
      "    └── demo2\n",
      "\n",
      "3 directories, 0 files\n"
     ]
    }
   ],
   "source": [
    "tree .runs"
   ]
  },
  {
   "cell_type": "code",
   "execution_count": 33,
   "metadata": {},
   "outputs": [],
   "source": [
    "runs -y mv demo2 demo"
   ]
  },
  {
   "cell_type": "markdown",
   "metadata": {},
   "source": [
    "This overwrites the run `demo`. It also moves `.runs/write-dir/demo2` and all its contents to `.runs/write-dir/demo`:"
   ]
  },
  {
   "cell_type": "code",
   "execution_count": 34,
   "metadata": {
    "scrolled": false
   },
   "outputs": [
    {
     "name": "stdout",
     "output_type": "stream",
     "text": [
      "from-spec-demo/0\n",
      "from-spec-demo/1\n",
      "from-spec-demo/2\n",
      "from-spec-demo/3\n",
      "demo1\n",
      "demo\n"
     ]
    }
   ],
   "source": [
    "runs ls %  # database contains demo instead of demo2"
   ]
  },
  {
   "cell_type": "code",
   "execution_count": 35,
   "metadata": {
    "scrolled": true
   },
   "outputs": [
    {
     "name": "stdout",
     "output_type": "stream",
     "text": [
      ".runs\n",
      "└── write-dir\n",
      "    ├── demo\n",
      "    └── demo1\n",
      "\n",
      "3 directories, 0 files\n"
     ]
    }
   ],
   "source": [
    "tree .runs  # the directory has been renamed from demo to demo2"
   ]
  },
  {
   "cell_type": "code",
   "execution_count": 36,
   "metadata": {
    "scrolled": false
   },
   "outputs": [
    {
     "name": "stdout",
     "output_type": "stream",
     "text": [
      "demo: 1 windows (created Wed Dec 26 13:17:08 2018) [80x24]\n",
      "demo1: 1 windows (created Wed Dec 26 13:17:08 2018) [80x24]\n",
      "from-spec-demo/0: 1 windows (created Wed Dec 26 13:17:02 2018) [80x24]\n",
      "from-spec-demo/1: 1 windows (created Wed Dec 26 13:17:02 2018) [80x24]\n",
      "from-spec-demo/2: 1 windows (created Wed Dec 26 13:17:02 2018) [80x24]\n",
      "from-spec-demo/3: 1 windows (created Wed Dec 26 13:17:02 2018) [80x24]\n"
     ]
    }
   ],
   "source": [
    "tmux ls | grep demo  # the TMUX session has been renamed"
   ]
  },
  {
   "cell_type": "markdown",
   "metadata": {},
   "source": [
    "## `change-description`"
   ]
  },
  {
   "cell_type": "markdown",
   "metadata": {},
   "source": [
    "We can also change the description for runs"
   ]
  },
  {
   "cell_type": "code",
   "execution_count": 37,
   "metadata": {},
   "outputs": [],
   "source": [
    "runs change-description from-spec-demo/% 'A new description'"
   ]
  },
  {
   "cell_type": "code",
   "execution_count": 38,
   "metadata": {
    "scrolled": false
   },
   "outputs": [
    {
     "name": "stdout",
     "output_type": "stream",
     "text": [
      "\u001b[0;32mdemo: \u001b[0;0mDemonstrate .runsrc capabilities\n",
      "\u001b[0;32mdemo1: \u001b[0;0mDemonstrate .runsrc capabilities\n",
      "\u001b[0;32mfrom-spec-demo/0: \u001b[0;0mA new description\n",
      "\u001b[0;32mfrom-spec-demo/1: \u001b[0;0mA new description\n",
      "\u001b[0;32mfrom-spec-demo/2: \u001b[0;0mA new description\n",
      "\u001b[0;32mfrom-spec-demo/3: \u001b[0;0mA new description\n"
     ]
    }
   ],
   "source": [
    "runs lookup description --active"
   ]
  },
  {
   "cell_type": "markdown",
   "metadata": {},
   "source": [
    "## `kill`"
   ]
  },
  {
   "cell_type": "markdown",
   "metadata": {},
   "source": [
    "As we have already seen from [earlier](#ls) in the demo, we can also kill the TMUX session for runs without deleting the database record. You can always use `tmux kill-session` for this, but `lab-notebook` allows you to kill multiple sessions at once:"
   ]
  },
  {
   "cell_type": "code",
   "execution_count": 39,
   "metadata": {},
   "outputs": [],
   "source": [
    "runs -y kill from-spec-demo/%"
   ]
  },
  {
   "cell_type": "code",
   "execution_count": 40,
   "metadata": {},
   "outputs": [
    {
     "name": "stdout",
     "output_type": "stream",
     "text": [
      "demo: 1 windows (created Wed Dec 26 13:17:08 2018) [80x24]\n",
      "demo1: 1 windows (created Wed Dec 26 13:17:08 2018) [80x24]\n"
     ]
    }
   ],
   "source": [
    "tmux ls | grep demo"
   ]
  },
  {
   "cell_type": "code",
   "execution_count": 41,
   "metadata": {},
   "outputs": [
    {
     "name": "stdout",
     "output_type": "stream",
     "text": [
      "demo\n",
      "demo1\n"
     ]
    }
   ],
   "source": [
    "runs ls --active"
   ]
  },
  {
   "cell_type": "code",
   "execution_count": 42,
   "metadata": {
    "scrolled": false
   },
   "outputs": [
    {
     "name": "stdout",
     "output_type": "stream",
     "text": [
      "from-spec-demo/0\n",
      "from-spec-demo/1\n",
      "from-spec-demo/2\n",
      "from-spec-demo/3\n",
      "demo1\n",
      "demo\n"
     ]
    }
   ],
   "source": [
    "runs ls %  # note: runs were not deleted from database"
   ]
  },
  {
   "cell_type": "markdown",
   "metadata": {},
   "source": [
    "# Deleting Runs"
   ]
  },
  {
   "cell_type": "markdown",
   "metadata": {},
   "source": [
    "Finally let's see what happens when we delete runs."
   ]
  },
  {
   "cell_type": "code",
   "execution_count": 43,
   "metadata": {},
   "outputs": [],
   "source": [
    "runs -y rm demo"
   ]
  },
  {
   "cell_type": "code",
   "execution_count": 44,
   "metadata": {},
   "outputs": [
    {
     "name": "stdout",
     "output_type": "stream",
     "text": [
      "from-spec-demo/0\n",
      "from-spec-demo/1\n",
      "from-spec-demo/2\n",
      "from-spec-demo/3\n",
      "demo1\n"
     ]
    }
   ],
   "source": [
    "runs ls %"
   ]
  },
  {
   "cell_type": "markdown",
   "metadata": {},
   "source": [
    "`.runs/write-dir/demo` and all its contents have been removed. This happend because `write-dir` is specified in the `dir_names` section of `.runsrc` (see the [File IO](#File-IO) section)."
   ]
  },
  {
   "cell_type": "code",
   "execution_count": 45,
   "metadata": {
    "scrolled": true
   },
   "outputs": [
    {
     "name": "stdout",
     "output_type": "stream",
     "text": [
      ".runs/write-dir/\n",
      "└── demo1\n",
      "\n",
      "1 directory, 0 files\n"
     ]
    }
   ],
   "source": [
    "tree .runs/write-dir/"
   ]
  },
  {
   "cell_type": "markdown",
   "metadata": {},
   "source": [
    "# Reproducing Runs"
   ]
  },
  {
   "cell_type": "markdown",
   "metadata": {},
   "source": [
    "The `reproduce` command prints out commands that will exactly reproduce a queried run."
   ]
  },
  {
   "cell_type": "code",
   "execution_count": 46,
   "metadata": {
    "scrolled": true
   },
   "outputs": [
    {
     "name": "stdout",
     "output_type": "stream",
     "text": [
      "\u001b[0;32mTo reproduce:\u001b[0;0m\n",
      "git checkout ec84f3e7eece3fdab32c7c84c9d3cbcda953cc8e\n",
      "runs new --path=\"demo1\" --command=\"python3 file_io_demo.py \" --description=\"Demonstrate .runsrc capabilities\"\n"
     ]
    }
   ],
   "source": [
    "runs reproduce demo1"
   ]
  },
  {
   "cell_type": "markdown",
   "metadata": {},
   "source": [
    "You can also reproduce multiple runs:"
   ]
  },
  {
   "cell_type": "code",
   "execution_count": 47,
   "metadata": {
    "scrolled": true
   },
   "outputs": [
    {
     "name": "stdout",
     "output_type": "stream",
     "text": [
      "\u001b[0;32mTo reproduce:\u001b[0;0m\n",
      "git checkout ec84f3e7eece3fdab32c7c84c9d3cbcda953cc8e\n",
      "runs new \\\n",
      "--path=\"from-spec-demo/0\" \\\n",
      "--command=\"python dummy.py --my-arg=\\\"2\\\" --my-arg=\\\"1\\\"\" \\\n",
      "--description=\"A new description\" \\\n",
      "--path=\"from-spec-demo/1\" \\\n",
      "--command=\"python dummy.py --my-arg=\\\"2\\\" --my-arg=\\\"1\\\" --flag\" \\\n",
      "--description=\"A new description\" \\\n",
      "--path=\"from-spec-demo/2\" \\\n",
      "--command=\"python dummy.py --my-arg=\\\"1\\\"\" \\\n",
      "--description=\"A new description\" \\\n",
      "--path=\"from-spec-demo/3\" \\\n",
      "--command=\"python dummy.py --my-arg=\\\"1\\\" --flag\" \\\n",
      "--description=\"A new description\"\n"
     ]
    }
   ],
   "source": [
    "runs reproduce from-spec-demo/%"
   ]
  },
  {
   "cell_type": "markdown",
   "metadata": {},
   "source": [
    "You can also change the path and description of reproduced runs:"
   ]
  },
  {
   "cell_type": "code",
   "execution_count": 48,
   "metadata": {},
   "outputs": [
    {
     "name": "stdout",
     "output_type": "stream",
     "text": [
      "\u001b[0;32mTo reproduce:\u001b[0;0m\n",
      "git checkout ec84f3e7eece3fdab32c7c84c9d3cbcda953cc8e\n",
      "runs new --path=\"new-path-name\" --command=\"python3 file_io_demo.py --write-path=/Users/ethan/lab-notebook/demo/.runs/write-dir/demo1/hello.txt\" --description=\"Some new description.\"\n"
     ]
    }
   ],
   "source": [
    "runs reproduce demo1 --path=new-path-name --description='Some new description.'"
   ]
  },
  {
   "cell_type": "markdown",
   "metadata": {},
   "source": [
    "# Comparing Runs"
   ]
  },
  {
   "cell_type": "code",
   "execution_count": 49,
   "metadata": {},
   "outputs": [
    {
     "name": "stdout",
     "output_type": "stream",
     "text": [
      "\u001b[0;32mfrom-spec-demo/0: \u001b[0;0mpython dummy.py --my-arg=\"2\" --my-arg=\"1\"\n"
     ]
    }
   ],
   "source": [
    "runs lookup command from-spec-demo/0"
   ]
  },
  {
   "cell_type": "code",
   "execution_count": 50,
   "metadata": {},
   "outputs": [
    {
     "name": "stdout",
     "output_type": "stream",
     "text": [
      "\u001b[0;32mfrom-spec-demo/3: \u001b[0;0mpython dummy.py --my-arg=\"1\" --flag\n"
     ]
    }
   ],
   "source": [
    "runs lookup command from-spec-demo/3"
   ]
  },
  {
   "cell_type": "code",
   "execution_count": 51,
   "metadata": {
    "scrolled": true
   },
   "outputs": [
    {
     "name": "stdout",
     "output_type": "stream",
     "text": [
      "python dummy.py --my-arg=\"1\" \u001b[0;0m\n",
      "\u001b[0;32m+ --my-arg=\"2\" \u001b[0;0m\n",
      "\u001b[1;31m- --flag \u001b[0;0m\n"
     ]
    }
   ],
   "source": [
    "runs diff from-spec-demo/0 from-spec-demo/3"
   ]
  },
  {
   "cell_type": "markdown",
   "metadata": {},
   "source": [
    "# `runs-git`"
   ]
  },
  {
   "cell_type": "markdown",
   "metadata": {},
   "source": [
    "One of the most useful aspects of `lab-notebook` is the way it associates runs with the git commit that they were launched with. You can always lookup commits by hand with"
   ]
  },
  {
   "cell_type": "code",
   "execution_count": 52,
   "metadata": {
    "scrolled": true
   },
   "outputs": [
    {
     "name": "stdout",
     "output_type": "stream",
     "text": [
      "\u001b[0;32mfrom-spec-demo/0: \u001b[0;0mec84f3e7eece3fdab32c7c84c9d3cbcda953cc8e\n",
      "\u001b[0;32mfrom-spec-demo/1: \u001b[0;0mec84f3e7eece3fdab32c7c84c9d3cbcda953cc8e\n",
      "\u001b[0;32mfrom-spec-demo/2: \u001b[0;0mec84f3e7eece3fdab32c7c84c9d3cbcda953cc8e\n",
      "\u001b[0;32mfrom-spec-demo/3: \u001b[0;0mec84f3e7eece3fdab32c7c84c9d3cbcda953cc8e\n",
      "\u001b[0;32mdemo1: \u001b[0;0mec84f3e7eece3fdab32c7c84c9d3cbcda953cc8e\n"
     ]
    }
   ],
   "source": [
    "runs lookup commit %"
   ]
  },
  {
   "cell_type": "markdown",
   "metadata": {},
   "source": [
    "but `lab-notebook` includes a handy tool for working directly with path names:\n",
    "```\n",
    "runs-git diff demo1\n",
    "runs-git checkout demo1\n",
    "# etc.\n",
    "```"
   ]
  },
  {
   "cell_type": "markdown",
   "metadata": {},
   "source": [
    "This is equivalent to \n",
    "```\n",
    "git diff $(runs lookup commit demo1 --porcelain)\n",
    "git checkout $(runs lookup commit demo1 --porcelain)\n",
    "# etc.\n",
    "```\n",
    "`runs-git` works on any `git` command that has the format \n",
    "```\n",
    "git <...> <commit-hash>\n",
    "```"
   ]
  }
 ],
 "metadata": {
  "kernelspec": {
   "display_name": "Bash",
   "language": "bash",
   "name": "bash"
  },
  "language_info": {
   "codemirror_mode": "shell",
   "file_extension": ".sh",
   "mimetype": "text/x-sh",
   "name": "bash"
  }
 },
 "nbformat": 4,
 "nbformat_minor": 2
}
