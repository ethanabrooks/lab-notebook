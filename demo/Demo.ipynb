{
 "cells": [
  {
   "cell_type": "code",
   "execution_count": 1,
   "metadata": {},
   "outputs": [
    {
     "name": "stdout",
     "output_type": "stream",
     "text": [
      "Config not found. Using default config:\n",
      "{'args': '',\n",
      " 'db_path': '/Users/ethan/lab-notebook/demo/runs.db',\n",
      " 'dir_names': '',\n",
      " 'root': '/Users/ethan/lab-notebook/demo/.runs'}\n"
     ]
    }
   ],
   "source": [
    "runs -y rm %"
   ]
  },
  {
   "cell_type": "code",
   "execution_count": 2,
   "metadata": {},
   "outputs": [],
   "source": [
    "rm -f runs.db .runsrc"
   ]
  },
  {
   "cell_type": "markdown",
   "metadata": {},
   "source": [
    "# Starting out"
   ]
  },
  {
   "cell_type": "markdown",
   "metadata": {},
   "source": [
    "We begin by creating a new `.runsrc` file and creating our database `runs.db`. Running any `runs` command will do this. Note that without `--assume-yes`, this would prompt the user for confirmation. You can also use the short flag `-y`."
   ]
  },
  {
   "cell_type": "code",
   "execution_count": 3,
   "metadata": {},
   "outputs": [
    {
     "name": "stdout",
     "output_type": "stream",
     "text": [
      "Config not found. Using default config:\n",
      "{'args': '',\n",
      " 'db_path': '/Users/ethan/lab-notebook/demo/runs.db',\n",
      " 'dir_names': '',\n",
      " 'root': '/Users/ethan/lab-notebook/demo/.runs'}\n",
      "\n"
     ]
    }
   ],
   "source": [
    "runs --assume-yes ls"
   ]
  },
  {
   "cell_type": "code",
   "execution_count": 4,
   "metadata": {},
   "outputs": [
    {
     "name": "stdout",
     "output_type": "stream",
     "text": [
      "runs.db\n"
     ]
    }
   ],
   "source": [
    "ls runs.db  # database that maintains metadata about runs"
   ]
  },
  {
   "cell_type": "code",
   "execution_count": 5,
   "metadata": {},
   "outputs": [
    {
     "name": "stdout",
     "output_type": "stream",
     "text": [
      "[main]\n",
      "root : /Users/ethan/lab-notebook/demo/.runs\n",
      "db_path : /Users/ethan/lab-notebook/demo/runs.db\n",
      "dir_names : \n",
      "args : \n",
      "\n"
     ]
    }
   ],
   "source": [
    "cat .runsrc  # config file"
   ]
  },
  {
   "cell_type": "markdown",
   "metadata": {},
   "source": [
    "The `.runsrc` establishes various defaults for the `runs` command although these can be overriden with command line arguments. We will explore some of the capabilities of this file later in the tutorial."
   ]
  },
  {
   "cell_type": "markdown",
   "metadata": {},
   "source": [
    "# Creating runs"
   ]
  },
  {
   "cell_type": "code",
   "execution_count": 6,
   "metadata": {},
   "outputs": [
    {
     "name": "stdout",
     "output_type": "stream",
     "text": [
      "\u001b[0;32mPath:\u001b[0;0m\n",
      "demo\n",
      "\u001b[0;32mDescription:\u001b[0;0m\n",
      "Demonstrate lab-notebook capabilities.\n",
      "\u001b[0;32mCommand sent to session:\u001b[0;0m\n",
      "python\n",
      "\u001b[0;32mList active:\u001b[0;0m\n",
      "tmux list-session\n",
      "\u001b[0;32mAttach:\u001b[0;0m\n",
      "tmux attach -t demo\n",
      "\n"
     ]
    }
   ],
   "source": [
    "runs -y new --path=demo --command=python --description=\"Demonstrate lab-notebook capabilities.\""
   ]
  },
  {
   "cell_type": "code",
   "execution_count": 7,
   "metadata": {},
   "outputs": [
    {
     "name": "stdout",
     "output_type": "stream",
     "text": [
      "demo\n"
     ]
    }
   ],
   "source": [
    "runs ls demo"
   ]
  },
  {
   "cell_type": "markdown",
   "metadata": {},
   "source": [
    "You can query the database about runs:"
   ]
  },
  {
   "cell_type": "code",
   "execution_count": 8,
   "metadata": {},
   "outputs": [
    {
     "name": "stdout",
     "output_type": "stream",
     "text": [
      "\u001b[0;32mdemo: \u001b[0;0mpython\n"
     ]
    }
   ],
   "source": [
    "runs lookup command demo"
   ]
  },
  {
   "cell_type": "code",
   "execution_count": 9,
   "metadata": {},
   "outputs": [
    {
     "name": "stdout",
     "output_type": "stream",
     "text": [
      "\u001b[0;32mdemo: \u001b[0;0m2018-12-25T12:29:46.916439\n"
     ]
    }
   ],
   "source": [
    "runs lookup datetime demo"
   ]
  },
  {
   "cell_type": "markdown",
   "metadata": {},
   "source": [
    "You can create multiple runs with a single run command:"
   ]
  },
  {
   "cell_type": "code",
   "execution_count": 10,
   "metadata": {},
   "outputs": [
    {
     "name": "stdout",
     "output_type": "stream",
     "text": [
      "\u001b[0;32mPath:\u001b[0;0m\n",
      "demo2\n",
      "\u001b[0;32mDescription:\u001b[0;0m\n",
      "Demonstrate lab-notebook capabilities.\n",
      "\u001b[0;32mCommand sent to session:\u001b[0;0m\n",
      "python -c 'print(2)'\n",
      "\u001b[0;32mList active:\u001b[0;0m\n",
      "tmux list-session\n",
      "\u001b[0;32mAttach:\u001b[0;0m\n",
      "tmux attach -t demo2\n",
      "\n",
      "\u001b[0;32mPath:\u001b[0;0m\n",
      "demo\n",
      "\u001b[0;32mDescription:\u001b[0;0m\n",
      "Demonstrate lab-notebook capabilities.\n",
      "\u001b[0;32mCommand sent to session:\u001b[0;0m\n",
      "python -c 'print(1)'\n",
      "\u001b[0;32mList active:\u001b[0;0m\n",
      "tmux list-session\n",
      "\u001b[0;32mAttach:\u001b[0;0m\n",
      "tmux attach -t demo\n",
      "\n"
     ]
    }
   ],
   "source": [
    "runs -y new --path=demo --command=\"python -c 'print(1)'\" \\\n",
    "            --path=demo2 --command=\"python -c 'print(2)'\" \\\n",
    "            --description=\"Demonstrate lab-notebook capabilities.\""
   ]
  },
  {
   "cell_type": "code",
   "execution_count": 11,
   "metadata": {},
   "outputs": [
    {
     "name": "stdout",
     "output_type": "stream",
     "text": [
      "demo2\n",
      "demo\n"
     ]
    }
   ],
   "source": [
    "runs ls dem%"
   ]
  },
  {
   "cell_type": "code",
   "execution_count": 12,
   "metadata": {},
   "outputs": [
    {
     "name": "stdout",
     "output_type": "stream",
     "text": [
      "demo: 1 windows (created Tue Dec 25 12:29:48 2018) [80x24]\n",
      "demo2: 1 windows (created Tue Dec 25 12:29:48 2018) [80x24]\n"
     ]
    }
   ],
   "source": [
    "tmux ls | grep demo"
   ]
  },
  {
   "cell_type": "markdown",
   "metadata": {},
   "source": [
    "Note that `demo` has been overwritten. Previously the command for `demo` was `python`. Now it is"
   ]
  },
  {
   "cell_type": "code",
   "execution_count": 13,
   "metadata": {},
   "outputs": [
    {
     "name": "stdout",
     "output_type": "stream",
     "text": [
      "\u001b[0;32mdemo: \u001b[0;0mpython -c 'print(1)'\n"
     ]
    }
   ],
   "source": [
    "runs lookup command demo"
   ]
  },
  {
   "cell_type": "code",
   "execution_count": 14,
   "metadata": {},
   "outputs": [
    {
     "name": "stdout",
     "output_type": "stream",
     "text": [
      "demo\n",
      "demo2\n"
     ]
    }
   ],
   "source": [
    "runs ls --active"
   ]
  },
  {
   "cell_type": "markdown",
   "metadata": {},
   "source": [
    "You can also filter by time."
   ]
  },
  {
   "cell_type": "code",
   "execution_count": 15,
   "metadata": {},
   "outputs": [
    {
     "name": "stdout",
     "output_type": "stream",
     "text": [
      "demo2\n",
      "demo\n"
     ]
    }
   ],
   "source": [
    "runs ls --since $(date \"+%Y-%m-%d\")"
   ]
  },
  {
   "cell_type": "code",
   "execution_count": 16,
   "metadata": {},
   "outputs": [
    {
     "name": "stdout",
     "output_type": "stream",
     "text": [
      "demo2\n",
      "demo\n"
     ]
    }
   ],
   "source": [
    "runs ls --from-last 1day"
   ]
  },
  {
   "cell_type": "markdown",
   "metadata": {},
   "source": [
    "For info on accepted formats, run `runs ls -h` (ommitted for brevity)."
   ]
  },
  {
   "cell_type": "markdown",
   "metadata": {},
   "source": [
    "All these selection mechanisms are available to other `runs` subcommands (`rm`, `mv`, `ls`, `lookup`, `change-description`, `reproduce`, `correlate`, `kill`)."
   ]
  },
  {
   "cell_type": "markdown",
   "metadata": {},
   "source": [
    "# Changing runs"
   ]
  },
  {
   "cell_type": "code",
   "execution_count": 17,
   "metadata": {},
   "outputs": [],
   "source": [
    "runs -y mv demo demo1"
   ]
  },
  {
   "cell_type": "code",
   "execution_count": 18,
   "metadata": {
    "scrolled": true
   },
   "outputs": [
    {
     "name": "stdout",
     "output_type": "stream",
     "text": [
      "demo1\n",
      "demo2\n"
     ]
    }
   ],
   "source": [
    "runs ls --active"
   ]
  },
  {
   "cell_type": "code",
   "execution_count": 19,
   "metadata": {},
   "outputs": [
    {
     "name": "stdout",
     "output_type": "stream",
     "text": [
      "0: 1 windows (created Tue Dec 25 10:56:38 2018) [174x45]\n",
      "demo1: 1 windows (created Tue Dec 25 12:29:48 2018) [80x24]\n",
      "demo2: 1 windows (created Tue Dec 25 12:29:48 2018) [80x24]\n"
     ]
    }
   ],
   "source": [
    "tmux ls"
   ]
  },
  {
   "cell_type": "code",
   "execution_count": 20,
   "metadata": {},
   "outputs": [],
   "source": [
    "runs change-description --active 'A new description'"
   ]
  },
  {
   "cell_type": "code",
   "execution_count": 21,
   "metadata": {
    "scrolled": true
   },
   "outputs": [
    {
     "name": "stdout",
     "output_type": "stream",
     "text": [
      "\u001b[0;32mdemo1: \u001b[0;0mA new description\n",
      "\u001b[0;32mdemo2: \u001b[0;0mA new description\n"
     ]
    }
   ],
   "source": [
    "runs lookup description --active"
   ]
  },
  {
   "cell_type": "markdown",
   "metadata": {},
   "source": [
    "We can also kill the TMUX session for runs without deleting the database record:"
   ]
  },
  {
   "cell_type": "code",
   "execution_count": 22,
   "metadata": {},
   "outputs": [],
   "source": [
    "runs -y kill --active"
   ]
  },
  {
   "cell_type": "code",
   "execution_count": 23,
   "metadata": {},
   "outputs": [
    {
     "ename": "",
     "evalue": "1",
     "output_type": "error",
     "traceback": []
    }
   ],
   "source": [
    "tmux ls | grep demo  # no runs found"
   ]
  },
  {
   "cell_type": "code",
   "execution_count": null,
   "metadata": {},
   "outputs": [],
   "source": [
    "runs ls --active  # no runs found"
   ]
  },
  {
   "cell_type": "code",
   "execution_count": null,
   "metadata": {
    "scrolled": false
   },
   "outputs": [],
   "source": [
    "runs ls demo%  # but runs were not deleted from database"
   ]
  },
  {
   "cell_type": "markdown",
   "metadata": {},
   "source": [
    "# Using the `.runsrc`"
   ]
  },
  {
   "cell_type": "code",
   "execution_count": null,
   "metadata": {},
   "outputs": [],
   "source": [
    "runs -y rm %"
   ]
  },
  {
   "cell_type": "code",
   "execution_count": null,
   "metadata": {},
   "outputs": [],
   "source": [
    "rm -rf .runs .runsrc"
   ]
  },
  {
   "cell_type": "markdown",
   "metadata": {},
   "source": [
    "In this section we will focus on two fields in the `.runsrc`:\n",
    "* `dir_names` specifies directories that will be placed inside `root` and will be synchronized with run paths (created, moved, and deleted with them).\n",
    "* `args` specifies flags that should be passed to every run. The `<path>` keyword gets replaced with the path of the run."
   ]
  },
  {
   "cell_type": "code",
   "execution_count": null,
   "metadata": {
    "scrolled": false
   },
   "outputs": [],
   "source": [
    "echo '[main]\n",
    "root : /Users/ethan/lab-notebook/demo/.runs\n",
    "db_path : /Users/ethan/lab-notebook/demo/runs.db\n",
    "dir_names : write-dir\n",
    "args : --write-path=${main:root}/write-dir/<path>/hello.txt' > .runsrc"
   ]
  },
  {
   "cell_type": "code",
   "execution_count": null,
   "metadata": {
    "scrolled": false
   },
   "outputs": [],
   "source": [
    "cat file_io_demo.py"
   ]
  },
  {
   "cell_type": "code",
   "execution_count": null,
   "metadata": {
    "scrolled": true
   },
   "outputs": [],
   "source": [
    "runs -y new --path=demo1 --command='python3 file_io_demo.py' \\\n",
    "            --path=demo2 --command='python3 file_io_demo.py' \\\n",
    "            --description='Demonstrate .runsrc capabilities'"
   ]
  },
  {
   "cell_type": "markdown",
   "metadata": {},
   "source": [
    "Note that the `--write-path` arg has been passed to each run with the value specified in `.runsrc`. Also note that the directory `.runs/write-dir` was created by the `runs` command (because of the `dir_names` section in `.runsrc`), not by `demo_script.py`:"
   ]
  },
  {
   "cell_type": "code",
   "execution_count": null,
   "metadata": {
    "scrolled": false
   },
   "outputs": [],
   "source": [
    "sleep 1 && tree .runs/write-dir/"
   ]
  },
  {
   "cell_type": "code",
   "execution_count": null,
   "metadata": {},
   "outputs": [],
   "source": [
    "runs -y mv demo2 demo0"
   ]
  },
  {
   "cell_type": "markdown",
   "metadata": {},
   "source": [
    "`.runs/write-dir/demo2` and all its contents have been moved to `.runs/write-dir/demo0`:"
   ]
  },
  {
   "cell_type": "code",
   "execution_count": null,
   "metadata": {
    "scrolled": true
   },
   "outputs": [],
   "source": [
    "tree .runs/write-dir/"
   ]
  },
  {
   "cell_type": "markdown",
   "metadata": {},
   "source": [
    "Finally let's see what happens when we delete runs."
   ]
  },
  {
   "cell_type": "code",
   "execution_count": null,
   "metadata": {},
   "outputs": [],
   "source": [
    "runs -y rm demo0"
   ]
  },
  {
   "cell_type": "markdown",
   "metadata": {},
   "source": [
    "`.runs/write-dir/demo0` and all its contents have been removed."
   ]
  },
  {
   "cell_type": "code",
   "execution_count": null,
   "metadata": {
    "scrolled": true
   },
   "outputs": [],
   "source": [
    "tree .runs/write-dir/"
   ]
  },
  {
   "cell_type": "markdown",
   "metadata": {},
   "source": [
    "# Using specs"
   ]
  },
  {
   "cell_type": "code",
   "execution_count": 43,
   "metadata": {},
   "outputs": [],
   "source": [
    "runs -y rm %"
   ]
  },
  {
   "cell_type": "code",
   "execution_count": 44,
   "metadata": {},
   "outputs": [],
   "source": [
    "rm -rf .runsrc runs.db"
   ]
  },
  {
   "cell_type": "code",
   "execution_count": 24,
   "metadata": {},
   "outputs": [
    {
     "name": "stdout",
     "output_type": "stream",
     "text": [
      "\u001b[0;32mPath:\u001b[0;0m\n",
      "demo1\n",
      "\u001b[0;32mDescription:\u001b[0;0m\n",
      "Demonstrate spec capabilities\n",
      "\u001b[0;32mCommand sent to session:\u001b[0;0m\n",
      "python dummy_script.py --flag --arg2=2 --arg=a --arg2=1\n",
      "\u001b[0;32mList active:\u001b[0;0m\n",
      "tmux list-session\n",
      "\u001b[0;32mAttach:\u001b[0;0m\n",
      "tmux attach -t demo1\n",
      "\n",
      "\u001b[0;32mPath:\u001b[0;0m\n",
      "demo2\n",
      "\u001b[0;32mDescription:\u001b[0;0m\n",
      "Demonstrate spec capabilities\n",
      "\u001b[0;32mCommand sent to session:\u001b[0;0m\n",
      "python dummy_script.py --arg=b --arg2=1\n",
      "\u001b[0;32mList active:\u001b[0;0m\n",
      "tmux list-session\n",
      "\u001b[0;32mAttach:\u001b[0;0m\n",
      "tmux attach -t demo2\n",
      "\n"
     ]
    }
   ],
   "source": [
    "runs -y new --path=demo1 --command=\"python dummy_script.py --arg=a --flag --arg2=1 --arg2=2\" \\\n",
    "            --path=demo2 --command=\"python dummy_script.py --arg=b --arg2=1\" \\\n",
    "            --description=\"Demonstrate spec capabilities\""
   ]
  },
  {
   "cell_type": "code",
   "execution_count": 29,
   "metadata": {},
   "outputs": [
    {
     "name": "stdout",
     "output_type": "stream",
     "text": [
      "{\n",
      "    \"args\": {\n",
      "        \"arg\": [\n",
      "            \"b\",\n",
      "            \"a\"\n",
      "        ],\n",
      "        \"arg2\": [\n",
      "            1,\n",
      "            2\n",
      "        ]\n",
      "    },\n",
      "    \"command\": \"python dummy_script.py\",\n",
      "    \"flags\": [\n",
      "        [\n",
      "            \"flag\"\n",
      "        ],\n",
      "        [\n",
      "            null\n",
      "        ]\n",
      "    ]\n",
      "}\n"
     ]
    }
   ],
   "source": [
    "runs to-spec --active"
   ]
  },
  {
   "cell_type": "code",
   "execution_count": null,
   "metadata": {},
   "outputs": [],
   "source": []
  }
 ],
 "metadata": {
  "kernelspec": {
   "display_name": "Bash",
   "language": "bash",
   "name": "bash"
  },
  "language_info": {
   "codemirror_mode": "shell",
   "file_extension": ".sh",
   "mimetype": "text/x-sh",
   "name": "bash"
  }
 },
 "nbformat": 4,
 "nbformat_minor": 2
}
