{
 "cells": [
  {
   "cell_type": "code",
   "execution_count": 1,
   "metadata": {},
   "outputs": [
    {
     "name": "stdout",
     "output_type": "stream",
     "text": [
      "Config not found. Using default config:\n",
      "{'args': '',\n",
      " 'db_path': '/Users/ethan/lab-notebook/demo/runs.db',\n",
      " 'dir_names': '',\n",
      " 'root': '/Users/ethan/lab-notebook/demo/.runs'}\n"
     ]
    }
   ],
   "source": [
    "runs -y rm %"
   ]
  },
  {
   "cell_type": "code",
   "execution_count": 2,
   "metadata": {},
   "outputs": [],
   "source": [
    "rm -f runs.db .runsrc"
   ]
  },
  {
   "cell_type": "markdown",
   "metadata": {},
   "source": [
    "# Starting out"
   ]
  },
  {
   "cell_type": "markdown",
   "metadata": {},
   "source": [
    "We begin by creating a new `.runsrc` file and creating our database `runs.db`. Running any `runs` command will do this. Note that without `--assume-yes`, this would prompt the user for confirmation. You can also use the short flag `-y`."
   ]
  },
  {
   "cell_type": "code",
   "execution_count": 3,
   "metadata": {},
   "outputs": [
    {
     "name": "stdout",
     "output_type": "stream",
     "text": [
      "Config not found. Using default config:\n",
      "{'args': '',\n",
      " 'db_path': '/Users/ethan/lab-notebook/demo/runs.db',\n",
      " 'dir_names': '',\n",
      " 'root': '/Users/ethan/lab-notebook/demo/.runs'}\n",
      "\n"
     ]
    }
   ],
   "source": [
    "runs --assume-yes ls"
   ]
  },
  {
   "cell_type": "code",
   "execution_count": 4,
   "metadata": {},
   "outputs": [
    {
     "name": "stdout",
     "output_type": "stream",
     "text": [
      "runs.db\n"
     ]
    }
   ],
   "source": [
    "ls runs.db"
   ]
  },
  {
   "cell_type": "code",
   "execution_count": 5,
   "metadata": {},
   "outputs": [
    {
     "name": "stdout",
     "output_type": "stream",
     "text": [
      "[main]\n",
      "root : /Users/ethan/lab-notebook/demo/.runs\n",
      "db_path : /Users/ethan/lab-notebook/demo/runs.db\n",
      "dir_names : \n",
      "args : \n",
      "\n"
     ]
    }
   ],
   "source": [
    "cat .runsrc"
   ]
  },
  {
   "cell_type": "markdown",
   "metadata": {},
   "source": [
    "The `.runsrc` establishes various defaults for the `runs` command although these can be overriden with command line arguments. We will explore some of the capabilities of this file later in the tutorial."
   ]
  },
  {
   "cell_type": "markdown",
   "metadata": {},
   "source": [
    "# Creating runs"
   ]
  },
  {
   "cell_type": "code",
   "execution_count": 6,
   "metadata": {},
   "outputs": [
    {
     "name": "stdout",
     "output_type": "stream",
     "text": [
      "['git', 'rev-parse', 'HEAD']\n",
      "git rev-parse HEAD\n",
      "['git', 'status', '--porcelain']\n",
      "git status --porcelain\n",
      "['tmux', 'kill-session', '-t', 'demo']\n",
      "tmux kill-session -t demo\n",
      "['tmux', 'new', '-d', '-s', 'demo']\n",
      "tmux new -d -s demo\n",
      "['tmux', 'send-keys', '-t', 'demo', 'python', 'Enter']\n",
      "tmux send-keys -t demo python Enter\n",
      "\u001b[0;32mPath:\u001b[0;0m\n",
      "demo\n",
      "\u001b[0;32mDescription:\u001b[0;0m\n",
      "Demonstrate lab-notebook capabilities.\n",
      "\u001b[0;32mCommand sent to session:\u001b[0;0m\n",
      "python\n",
      "\u001b[0;32mList active:\u001b[0;0m\n",
      "tmux list-session\n",
      "\u001b[0;32mAttach:\u001b[0;0m\n",
      "tmux attach -t demo\n",
      "\n"
     ]
    }
   ],
   "source": [
    "runs -y new --path=demo --command=python --description=\"Demonstrate lab-notebook capabilities.\""
   ]
  },
  {
   "cell_type": "code",
   "execution_count": 7,
   "metadata": {},
   "outputs": [
    {
     "name": "stdout",
     "output_type": "stream",
     "text": [
      "demo\n"
     ]
    }
   ],
   "source": [
    "runs ls demo"
   ]
  },
  {
   "cell_type": "markdown",
   "metadata": {},
   "source": [
    "You can query the database about runs:"
   ]
  },
  {
   "cell_type": "code",
   "execution_count": 8,
   "metadata": {},
   "outputs": [
    {
     "name": "stdout",
     "output_type": "stream",
     "text": [
      "\u001b[0;32mdemo: \u001b[0;0mpython\n"
     ]
    }
   ],
   "source": [
    "runs lookup command demo"
   ]
  },
  {
   "cell_type": "code",
   "execution_count": 9,
   "metadata": {},
   "outputs": [
    {
     "name": "stdout",
     "output_type": "stream",
     "text": [
      "\u001b[0;32mdemo: \u001b[0;0mDemonstrate lab-notebook capabilities.\n"
     ]
    }
   ],
   "source": [
    "runs lookup description demo"
   ]
  },
  {
   "cell_type": "markdown",
   "metadata": {},
   "source": [
    "You can create multiple runs with a single run command:"
   ]
  },
  {
   "cell_type": "code",
   "execution_count": 10,
   "metadata": {},
   "outputs": [
    {
     "name": "stdout",
     "output_type": "stream",
     "text": [
      "['git', 'rev-parse', 'HEAD']\n",
      "git rev-parse HEAD\n",
      "['git', 'rev-parse', 'HEAD']\n",
      "git rev-parse HEAD\n",
      "['git', 'status', '--porcelain']\n",
      "git status --porcelain\n",
      "['tmux', 'kill-session', '-t', 'demo']\n",
      "tmux kill-session -t demo\n",
      "['tmux', 'kill-session', '-t', 'demo2']\n",
      "tmux kill-session -t demo2\n",
      "['tmux', 'new', '-d', '-s', 'demo2']\n",
      "tmux new -d -s demo2\n",
      "['tmux', 'send-keys', '-t', 'demo2', \"python -c 'print(2)'\", 'Enter']\n",
      "tmux send-keys -t demo2 python -c 'print(2)' Enter\n",
      "\u001b[0;32mPath:\u001b[0;0m\n",
      "demo2\n",
      "\u001b[0;32mDescription:\u001b[0;0m\n",
      "Demonstrate lab-notebook capabilities.\n",
      "\u001b[0;32mCommand sent to session:\u001b[0;0m\n",
      "python -c 'print(2)'\n",
      "\u001b[0;32mList active:\u001b[0;0m\n",
      "tmux list-session\n",
      "\u001b[0;32mAttach:\u001b[0;0m\n",
      "tmux attach -t demo2\n",
      "\n",
      "['tmux', 'kill-session', '-t', 'demo']\n",
      "tmux kill-session -t demo\n",
      "['tmux', 'new', '-d', '-s', 'demo']\n",
      "tmux new -d -s demo\n",
      "['tmux', 'send-keys', '-t', 'demo', \"python -c 'print(1)'\", 'Enter']\n",
      "tmux send-keys -t demo python -c 'print(1)' Enter\n",
      "\u001b[0;32mPath:\u001b[0;0m\n",
      "demo\n",
      "\u001b[0;32mDescription:\u001b[0;0m\n",
      "Demonstrate lab-notebook capabilities.\n",
      "\u001b[0;32mCommand sent to session:\u001b[0;0m\n",
      "python -c 'print(1)'\n",
      "\u001b[0;32mList active:\u001b[0;0m\n",
      "tmux list-session\n",
      "\u001b[0;32mAttach:\u001b[0;0m\n",
      "tmux attach -t demo\n",
      "\n"
     ]
    }
   ],
   "source": [
    "runs -y new --path=demo --command=\"python -c 'print(1)'\" --path=demo2 --command=\"python -c 'print(2)'\" --description=\"Demonstrate lab-notebook capabilities.\""
   ]
  },
  {
   "cell_type": "code",
   "execution_count": 11,
   "metadata": {},
   "outputs": [
    {
     "name": "stdout",
     "output_type": "stream",
     "text": [
      "demo2\n",
      "demo\n"
     ]
    }
   ],
   "source": [
    "runs ls dem%"
   ]
  },
  {
   "cell_type": "code",
   "execution_count": 12,
   "metadata": {},
   "outputs": [
    {
     "name": "stdout",
     "output_type": "stream",
     "text": [
      "\u001b[0;32mdemo: \u001b[0;0mpython -c 'print(1)'\n"
     ]
    }
   ],
   "source": [
    "runs lookup command demo"
   ]
  },
  {
   "cell_type": "code",
   "execution_count": 13,
   "metadata": {},
   "outputs": [
    {
     "name": "stdout",
     "output_type": "stream",
     "text": [
      "['tmux', 'list-session', '-F', '#{session_name}']\n",
      "tmux list-session -F #{session_name}\n",
      "demo\n"
     ]
    }
   ],
   "source": [
    "runs ls --active"
   ]
  },
  {
   "cell_type": "markdown",
   "metadata": {},
   "source": [
    "You can also filter by time."
   ]
  },
  {
   "cell_type": "code",
   "execution_count": 14,
   "metadata": {},
   "outputs": [
    {
     "name": "stdout",
     "output_type": "stream",
     "text": [
      "demo2\n",
      "demo\n"
     ]
    }
   ],
   "source": [
    "runs ls --since $(date \"+%Y-%m-%d\")"
   ]
  },
  {
   "cell_type": "code",
   "execution_count": 15,
   "metadata": {},
   "outputs": [
    {
     "name": "stdout",
     "output_type": "stream",
     "text": [
      "demo2\n",
      "demo\n"
     ]
    }
   ],
   "source": [
    "runs ls --from-last 1day"
   ]
  },
  {
   "cell_type": "markdown",
   "metadata": {},
   "source": [
    "For info on accepted formats, run `runs ls -h` (ommitted for brevity)."
   ]
  },
  {
   "cell_type": "code",
   "execution_count": 16,
   "metadata": {},
   "outputs": [
    {
     "name": "stdout",
     "output_type": "stream",
     "text": [
      "0: 1 windows (created Tue Dec 25 10:56:38 2018) [174x45]\n",
      "demo: 1 windows (created Tue Dec 25 10:59:06 2018) [80x24]\n"
     ]
    }
   ],
   "source": [
    "tmux ls"
   ]
  },
  {
   "cell_type": "code",
   "execution_count": null,
   "metadata": {},
   "outputs": [],
   "source": []
  }
 ],
 "metadata": {
  "kernelspec": {
   "display_name": "Bash",
   "language": "bash",
   "name": "bash"
  },
  "language_info": {
   "codemirror_mode": "shell",
   "file_extension": ".sh",
   "mimetype": "text/x-sh",
   "name": "bash"
  }
 },
 "nbformat": 4,
 "nbformat_minor": 2
}
