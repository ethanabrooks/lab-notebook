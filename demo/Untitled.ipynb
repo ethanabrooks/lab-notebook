{
 "cells": [
  {
   "cell_type": "code",
   "execution_count": 92,
   "metadata": {},
   "outputs": [],
   "source": [
    "runs -y rm %"
   ]
  },
  {
   "cell_type": "code",
   "execution_count": 93,
   "metadata": {},
   "outputs": [],
   "source": [
    "rm -f runs.db .runsrc"
   ]
  },
  {
   "cell_type": "markdown",
   "metadata": {},
   "source": [
    "# Starting out"
   ]
  },
  {
   "cell_type": "markdown",
   "metadata": {},
   "source": [
    "We begin by creating a new `.runsrc` file and creating our database `runs.db`. Running any `runs` command will do this. Note that without `--assume-yes`, this would prompt the user for confirmation. You can also use the short flag `-y`."
   ]
  },
  {
   "cell_type": "code",
   "execution_count": 94,
   "metadata": {},
   "outputs": [
    {
     "name": "stdout",
     "output_type": "stream",
     "text": [
      "Config not found. Using default config:\n",
      "{'args': '',\n",
      " 'db_path': '/Users/ethan/lab-notebook/demo/runs.db',\n",
      " 'dir_names': '',\n",
      " 'root': '/Users/ethan/lab-notebook/demo/.runs'}\n",
      "\n"
     ]
    }
   ],
   "source": [
    "runs --assume-yes ls"
   ]
  },
  {
   "cell_type": "code",
   "execution_count": 95,
   "metadata": {},
   "outputs": [
    {
     "name": "stdout",
     "output_type": "stream",
     "text": [
      "runs.db\n"
     ]
    }
   ],
   "source": [
    "ls runs.db"
   ]
  },
  {
   "cell_type": "code",
   "execution_count": 96,
   "metadata": {},
   "outputs": [
    {
     "name": "stdout",
     "output_type": "stream",
     "text": [
      "[main]\n",
      "root : /Users/ethan/lab-notebook/demo/.runs\n",
      "db_path : /Users/ethan/lab-notebook/demo/runs.db\n",
      "dir_names : \n",
      "args : \n",
      "\n"
     ]
    }
   ],
   "source": [
    "cat .runsrc"
   ]
  },
  {
   "cell_type": "markdown",
   "metadata": {},
   "source": [
    "The `.runsrc` establishes various defaults for the `runs` command although these can be overriden with command line arguments. We will explore some of the capabilities of this file later in the tutorial."
   ]
  },
  {
   "cell_type": "markdown",
   "metadata": {},
   "source": [
    "# Creating runs"
   ]
  },
  {
   "cell_type": "code",
   "execution_count": 97,
   "metadata": {},
   "outputs": [
    {
     "name": "stdout",
     "output_type": "stream",
     "text": [
      "\u001b[0;32mPath:\u001b[0;0m\n",
      "demo\n",
      "\u001b[0;32mDescription:\u001b[0;0m\n",
      "Demonstrate lab-notebook capabilities.\n",
      "\u001b[0;32mCommand sent to session:\u001b[0;0m\n",
      "python\n",
      "\u001b[0;32mList active:\u001b[0;0m\n",
      "tmux list-session\n",
      "\u001b[0;32mAttach:\u001b[0;0m\n",
      "tmux attach -t demo\n",
      "\n"
     ]
    }
   ],
   "source": [
    "runs -y new --path=demo --command=python --description=\"Demonstrate lab-notebook capabilities.\""
   ]
  },
  {
   "cell_type": "code",
   "execution_count": 98,
   "metadata": {},
   "outputs": [
    {
     "name": "stdout",
     "output_type": "stream",
     "text": [
      "demo\n"
     ]
    }
   ],
   "source": [
    "runs ls demo"
   ]
  },
  {
   "cell_type": "markdown",
   "metadata": {},
   "source": [
    "You can query the database about runs:"
   ]
  },
  {
   "cell_type": "code",
   "execution_count": 99,
   "metadata": {},
   "outputs": [
    {
     "name": "stdout",
     "output_type": "stream",
     "text": [
      "\u001b[0;32mdemo: \u001b[0;0mpython\n"
     ]
    }
   ],
   "source": [
    "runs lookup command demo"
   ]
  },
  {
   "cell_type": "code",
   "execution_count": 100,
   "metadata": {},
   "outputs": [
    {
     "name": "stdout",
     "output_type": "stream",
     "text": [
      "\u001b[0;32mdemo: \u001b[0;0m2018-12-25T11:33:35.123694\n"
     ]
    }
   ],
   "source": [
    "runs lookup datetime demo"
   ]
  },
  {
   "cell_type": "markdown",
   "metadata": {},
   "source": [
    "You can create multiple runs with a single run command:"
   ]
  },
  {
   "cell_type": "code",
   "execution_count": 101,
   "metadata": {},
   "outputs": [
    {
     "name": "stdout",
     "output_type": "stream",
     "text": [
      "\u001b[0;32mPath:\u001b[0;0m\n",
      "demo2\n",
      "\u001b[0;32mDescription:\u001b[0;0m\n",
      "Demonstrate lab-notebook capabilities.\n",
      "\u001b[0;32mCommand sent to session:\u001b[0;0m\n",
      "python -c 'print(2)'\n",
      "\u001b[0;32mList active:\u001b[0;0m\n",
      "tmux list-session\n",
      "\u001b[0;32mAttach:\u001b[0;0m\n",
      "tmux attach -t demo2\n",
      "\n",
      "\u001b[0;32mPath:\u001b[0;0m\n",
      "demo\n",
      "\u001b[0;32mDescription:\u001b[0;0m\n",
      "Demonstrate lab-notebook capabilities.\n",
      "\u001b[0;32mCommand sent to session:\u001b[0;0m\n",
      "python -c 'print(1)'\n",
      "\u001b[0;32mList active:\u001b[0;0m\n",
      "tmux list-session\n",
      "\u001b[0;32mAttach:\u001b[0;0m\n",
      "tmux attach -t demo\n",
      "\n"
     ]
    }
   ],
   "source": [
    "runs -y new --path=demo --command=\"python -c 'print(1)'\" \\\n",
    "            --path=demo2 --command=\"python -c 'print(2)'\" \\\n",
    "            --description=\"Demonstrate lab-notebook capabilities.\""
   ]
  },
  {
   "cell_type": "code",
   "execution_count": 102,
   "metadata": {},
   "outputs": [
    {
     "name": "stdout",
     "output_type": "stream",
     "text": [
      "demo2\n",
      "demo\n"
     ]
    }
   ],
   "source": [
    "runs ls dem%"
   ]
  },
  {
   "cell_type": "code",
   "execution_count": 103,
   "metadata": {},
   "outputs": [
    {
     "name": "stdout",
     "output_type": "stream",
     "text": [
      "demo: 1 windows (created Tue Dec 25 11:33:36 2018) [80x24]\n",
      "demo2: 1 windows (created Tue Dec 25 11:33:36 2018) [80x24]\n"
     ]
    }
   ],
   "source": [
    "tmux ls | grep demo"
   ]
  },
  {
   "cell_type": "markdown",
   "metadata": {},
   "source": [
    "Note that `demo` has been overwritten. Previously the command for `demo` was `python`. Now it is:"
   ]
  },
  {
   "cell_type": "code",
   "execution_count": 104,
   "metadata": {},
   "outputs": [
    {
     "name": "stdout",
     "output_type": "stream",
     "text": [
      "\u001b[0;32mdemo: \u001b[0;0mpython -c 'print(1)'\n"
     ]
    }
   ],
   "source": [
    "runs lookup command demo"
   ]
  },
  {
   "cell_type": "code",
   "execution_count": 105,
   "metadata": {},
   "outputs": [
    {
     "name": "stdout",
     "output_type": "stream",
     "text": [
      "demo\n",
      "demo2\n"
     ]
    }
   ],
   "source": [
    "runs ls --active"
   ]
  },
  {
   "cell_type": "markdown",
   "metadata": {},
   "source": [
    "You can also filter by time."
   ]
  },
  {
   "cell_type": "code",
   "execution_count": 106,
   "metadata": {},
   "outputs": [
    {
     "name": "stdout",
     "output_type": "stream",
     "text": [
      "demo2\n",
      "demo\n"
     ]
    }
   ],
   "source": [
    "runs ls --since $(date \"+%Y-%m-%d\")"
   ]
  },
  {
   "cell_type": "code",
   "execution_count": 107,
   "metadata": {},
   "outputs": [
    {
     "name": "stdout",
     "output_type": "stream",
     "text": [
      "demo2\n",
      "demo\n"
     ]
    }
   ],
   "source": [
    "runs ls --from-last 1day"
   ]
  },
  {
   "cell_type": "markdown",
   "metadata": {},
   "source": [
    "For info on accepted formats, run `runs ls -h` (ommitted for brevity)."
   ]
  },
  {
   "cell_type": "markdown",
   "metadata": {},
   "source": [
    "All these selection mechanisms are available to other `runs` subcommands (`rm`, `mv`, `ls`, `lookup`, `change-description`, `reproduce`, `correlate`, `kill`)."
   ]
  },
  {
   "cell_type": "markdown",
   "metadata": {},
   "source": [
    "# Changing runs"
   ]
  },
  {
   "cell_type": "code",
   "execution_count": 108,
   "metadata": {},
   "outputs": [],
   "source": [
    "runs -y mv demo demo1"
   ]
  },
  {
   "cell_type": "code",
   "execution_count": 109,
   "metadata": {
    "scrolled": true
   },
   "outputs": [
    {
     "name": "stdout",
     "output_type": "stream",
     "text": [
      "demo1\n",
      "demo2\n"
     ]
    }
   ],
   "source": [
    "runs ls --active"
   ]
  },
  {
   "cell_type": "code",
   "execution_count": 110,
   "metadata": {},
   "outputs": [
    {
     "name": "stdout",
     "output_type": "stream",
     "text": [
      "0: 1 windows (created Tue Dec 25 10:56:38 2018) [174x45]\n",
      "demo1: 1 windows (created Tue Dec 25 11:33:36 2018) [80x24]\n",
      "demo2: 1 windows (created Tue Dec 25 11:33:36 2018) [80x24]\n"
     ]
    }
   ],
   "source": [
    "tmux ls"
   ]
  },
  {
   "cell_type": "code",
   "execution_count": 111,
   "metadata": {},
   "outputs": [],
   "source": [
    "runs change-description --active 'A new description'"
   ]
  },
  {
   "cell_type": "code",
   "execution_count": 112,
   "metadata": {
    "scrolled": true
   },
   "outputs": [
    {
     "name": "stdout",
     "output_type": "stream",
     "text": [
      "\u001b[0;32mdemo1: \u001b[0;0mA new description\n",
      "\u001b[0;32mdemo2: \u001b[0;0mA new description\n"
     ]
    }
   ],
   "source": [
    "runs lookup description --active"
   ]
  },
  {
   "cell_type": "markdown",
   "metadata": {},
   "source": [
    "We can also kill the TMUX session for runs without deleting the database record:"
   ]
  },
  {
   "cell_type": "code",
   "execution_count": 114,
   "metadata": {},
   "outputs": [],
   "source": [
    "runs -y kill --active"
   ]
  },
  {
   "cell_type": "code",
   "execution_count": 115,
   "metadata": {},
   "outputs": [
    {
     "ename": "",
     "evalue": "1",
     "output_type": "error",
     "traceback": []
    }
   ],
   "source": [
    "tmux ls | grep demo  # no runs match"
   ]
  },
  {
   "cell_type": "code",
   "execution_count": 116,
   "metadata": {},
   "outputs": [
    {
     "name": "stdout",
     "output_type": "stream",
     "text": [
      "\n"
     ]
    }
   ],
   "source": [
    "runs ls --active  # no runs found"
   ]
  },
  {
   "cell_type": "code",
   "execution_count": 117,
   "metadata": {
    "scrolled": false
   },
   "outputs": [
    {
     "name": "stdout",
     "output_type": "stream",
     "text": [
      "demo2\n",
      "demo1\n"
     ]
    }
   ],
   "source": [
    "runs ls demo%  # but runs were not deleted from database"
   ]
  },
  {
   "cell_type": "markdown",
   "metadata": {},
   "source": [
    "# Using the `.runsrc`"
   ]
  },
  {
   "cell_type": "markdown",
   "metadata": {},
   "source": [
    "In this section we will focus on two fields in the `.runsrc`:\n",
    "* `dir_names` specifies directories that will be placed inside `root` and will be synchronized with run paths (created, moved, and deleted with them).\n",
    "* `args` specifies flags that should be passed to every run"
   ]
  },
  {
   "cell_type": "code",
   "execution_count": 119,
   "metadata": {},
   "outputs": [
    {
     "name": "stdout",
     "output_type": "stream",
     "text": [
      "cat: [main]\n",
      "root : /Users/ethan/lab-notebook/demo/.runs\n",
      "db_path : /Users/ethan/lab-notebook/demo/runs.db\n",
      "dir_names : write-dir\n",
      "args : --write-path=/write-dir/<path>: No such file or directory\n"
     ]
    },
    {
     "ename": "",
     "evalue": "1",
     "output_type": "error",
     "traceback": []
    }
   ],
   "source": [
    "cat \"[main]\n",
    "root : /Users/ethan/lab-notebook/demo/.runs\n",
    "db_path : /Users/ethan/lab-notebook/demo/runs.db\n",
    "dir_names : write-dir\n",
    "args : --write-path=${main:root}/write-dir/<path>\" > .runsrc"
   ]
  },
  {
   "cell_type": "markdown",
   "metadata": {},
   "source": [
    "There are a couple things to note here:\n",
    "* `<path>` will be replaced with the path of each run.\n",
    "* \n"
   ]
  }
 ],
 "metadata": {
  "kernelspec": {
   "display_name": "Bash",
   "language": "bash",
   "name": "bash"
  },
  "language_info": {
   "codemirror_mode": "shell",
   "file_extension": ".sh",
   "mimetype": "text/x-sh",
   "name": "bash"
  }
 },
 "nbformat": 4,
 "nbformat_minor": 2
}
